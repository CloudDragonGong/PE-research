{
 "cells": [
  {
   "cell_type": "code",
   "execution_count": 2,
   "id": "dffc3197",
   "metadata": {},
   "outputs": [],
   "source": [
    "import cv2\n",
    "import numpy as np\n",
    "import os \n",
    "from tqdm.notebook import tqdm \n",
    "import zipfile"
   ]
  },
  {
   "cell_type": "code",
   "execution_count": 3,
   "id": "dad99338",
   "metadata": {},
   "outputs": [],
   "source": [
    "# 最终可执行的python程序，用于生成光流\n",
    "# load the numpy data \n",
    "def load_np_data(dir_path):\n",
    "    files = os.listdir(dir_path)\n",
    "    for file in files:\n",
    "        data = np.load(os.path.join(dir_path,file))\n",
    "        yield data,file"
   ]
  },
  {
   "cell_type": "code",
   "execution_count": 4,
   "id": "35c57f77",
   "metadata": {},
   "outputs": [
    {
     "data": {
      "text/plain": [
       "(1, 2)"
      ]
     },
     "execution_count": 4,
     "metadata": {},
     "output_type": "execute_result"
    }
   ],
   "source": [
    "# test data\n",
    "test_data = np.random.randint(0,256,size=(1,2,3))\n",
    "test_data[...,1].shape"
   ]
  },
  {
   "cell_type": "code",
   "execution_count": 8,
   "id": "477d850d",
   "metadata": {},
   "outputs": [],
   "source": [
    "# the data is 3D\n",
    "def np2flow(data,output_dir,zip_dir):\n",
    "    # caculate the frame num \n",
    "    total_frames , height , width = data.shape\n",
    "    # create the window\n",
    "    cv2.namedWindow('optical flow',cv2.WINDOW_GUI_NORMAL)\n",
    "\n",
    "    if data is None:\n",
    "        print('data is none')\n",
    "    prvs = data[0] \n",
    "\n",
    "    # create hsv for opencv operation \n",
    "    hsv = np.zeros((height, width, 3), dtype=np.uint8)\n",
    "    hsv[..., 1] = 255\n",
    "\n",
    "    \n",
    "    # progress_bat = tqdm(total=len(data)-1,desc = 'loading')\n",
    "    for index , frame in enumerate(data[1:]):\n",
    "        flow = cv2.calcOpticalFlowFarneback(prvs,frame,None, 0.5, 3, 15, 3, 5, 1.2, 0)\n",
    "        flow_x , flow_y = flow[...,0] ,flow[...,1] \n",
    "        flow_x_file = os.path.join(output_dir, f'frame_{index:04d}_x.jpg')\n",
    "        flow_y_file = os.path.join(output_dir, f'frame_{index:04d}_y.jpg')\n",
    "        cv2.imwrite(flow_x_file, flow_x)\n",
    "        cv2.imwrite(flow_y_file, flow_y)\n",
    "\n",
    "        mag,ang = cv2.cartToPolar(flow[...,0] , flow[...,1])\n",
    "        \n",
    "        hsv[...,0] = ang * 180 / np.pi /2  \n",
    "        hsv[...,2] = cv2.normalize(mag,None,0,255,cv2.NORM_MINMAX)\n",
    "\n",
    "        bgr = cv2.cvtColor(hsv,cv2.COLOR_HSV2RGB)\n",
    "        cv2.imshow('optical flow',bgr) \n",
    "\n",
    "        # 检查是否按下了 'q' 键，如果按下则退出循环\n",
    "        if cv2.waitKey(1) & 0xFF == ord('q'):\n",
    "            break\n",
    "        prvs = frame\n",
    "        # progress_bat.update(1)\n",
    "    # add an empty img \n",
    "    cv2.imwrite(os.path.join(output_dir,f'frame_{len(data)-1:04d}_x.jpg'),np.zeros_like(prvs))\n",
    "    cv2.imwrite(os.path.join(output_dir,f'frame_{len(data)-1:04d}_y.jpg'),np.zeros_like(prvs))\n",
    "    \n",
    "    # progress_bat.close()\n",
    "    \n",
    "    # progress_bat_zip_x = tqdm(total=len(data)-1,desc = 'zip flow_x')\n",
    "    # progress_bat_zip_y = tqdm(total = len(data)-1,desc = 'zip flow_y')\n",
    "    with zipfile.ZipFile(os.path.join(zip_dir,'flow_x.zip'), 'w', zipfile.ZIP_DEFLATED) as zf:\n",
    "        for i in range(0,len(data)):\n",
    "            file_name = os.path.join(output_dir, f'frame_{i:04d}_x.jpg')\n",
    "            zf.write(file_name, os.path.basename(file_name))\n",
    "            # progress_bat_zip_x.update(1)\n",
    "    # progress_bat_zip_x.close()\n",
    "\n",
    "    with zipfile.ZipFile(os.path.join(zip_dir,'flow_y.zip'), 'w', zipfile.ZIP_DEFLATED) as zf:\n",
    "        for i in range(0, len(data)):\n",
    "            file_name = os.path.join(output_dir, f'frame_{i:04d}_y.jpg')\n",
    "            zf.write(file_name, os.path.basename(file_name))\n",
    "            # progress_bat_zip_y.update(1)\n",
    "    \n",
    "    # 清理生成的光流图像\n",
    "    for i in range(0, len(data)):\n",
    "        file_x = os.path.join(output_dir, f'frame_{i:04d}_x.jpg')\n",
    "        file_y = os.path.join(output_dir, f'frame_{i:04d}_y.jpg')\n",
    "        os.remove(file_x)\n",
    "        os.remove(file_y)\n",
    "    # progress_bat_zip_y.close()"
   ]
  },
  {
   "cell_type": "code",
   "execution_count": 9,
   "id": "3171dcfa",
   "metadata": {},
   "outputs": [
    {
     "data": {
      "application/vnd.jupyter.widget-view+json": {
       "model_id": "bb1fad2f1afa4e699131e68fc37ace14",
       "version_major": 2,
       "version_minor": 0
      },
      "text/plain": [
       "calculating:   0%|          | 0/89 [00:00<?, ?it/s]"
      ]
     },
     "metadata": {},
     "output_type": "display_data"
    },
    {
     "ename": "",
     "evalue": "",
     "output_type": "error",
     "traceback": [
      "\u001b[1;31m在当前单元格或上一个单元格中执行代码时 Kernel 崩溃。请查看单元格中的代码，以确定故障的可能原因。有关详细信息，请单击 <a href='https://aka.ms/vscodeJupyterKernelCrash'>此处</a>。有关更多详细信息，请查看 Jupyter <a href='command:jupyter.viewOutput'>log</a>。"
     ]
    }
   ],
   "source": [
    "root_dir = r\"videos\"\n",
    "data_path = r\"E:\\竞赛科研\\PE大创\\data\\pe_data_100\"\n",
    "data_iter = load_np_data(data_path)\n",
    "files_num = len(os.listdir(data_path))\n",
    "progress = tqdm(total=files_num,desc='calculating')\n",
    "for index , (data,filename) in enumerate(data_iter):\n",
    "    zip_dir = os.path.join(root_dir,os.path.splitext(filename)[0])\n",
    "    img_output = 'img_output'\n",
    "    os.makedirs(zip_dir,exist_ok=True)\n",
    "    os.makedirs(img_output,exist_ok=True)\n",
    "    np2flow(data,zip_dir=zip_dir,output_dir=img_output)\n",
    "    progress.update(1)\n",
    "progress.close()\n",
    "cv2.destroyAllWindows()\n"
   ]
  },
  {
   "cell_type": "code",
   "execution_count": null,
   "id": "7c750dab",
   "metadata": {},
   "outputs": [],
   "source": []
  }
 ],
 "metadata": {
  "kernelspec": {
   "display_name": "Python 3 (ipykernel)",
   "language": "python",
   "name": "python3"
  },
  "language_info": {
   "codemirror_mode": {
    "name": "ipython",
    "version": 3
   },
   "file_extension": ".py",
   "mimetype": "text/x-python",
   "name": "python",
   "nbconvert_exporter": "python",
   "pygments_lexer": "ipython3",
   "version": "3.8.16"
  }
 },
 "nbformat": 4,
 "nbformat_minor": 5
}
